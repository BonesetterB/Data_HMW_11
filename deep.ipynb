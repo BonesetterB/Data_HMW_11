{
 "cells": [
  {
   "cell_type": "code",
   "execution_count": 1,
   "metadata": {},
   "outputs": [
    {
     "name": "stdout",
     "output_type": "stream",
     "text": [
      "WARNING:tensorflow:From c:\\Users\\camyr\\AppData\\Local\\Programs\\Python\\Python311\\Lib\\site-packages\\keras\\src\\losses.py:2976: The name tf.losses.sparse_softmax_cross_entropy is deprecated. Please use tf.compat.v1.losses.sparse_softmax_cross_entropy instead.\n",
      "\n"
     ]
    }
   ],
   "source": [
    "\n",
    "import numpy as np\n",
    "import tensorflow\n",
    "from keras.datasets import imdb\n",
    "from keras.preprocessing.sequence import pad_sequences\n",
    "from keras.models import Sequential\n",
    "from keras.layers import Embedding,  LSTM,  Dense\n",
    "\n",
    "num_words = 10000\n",
    "maxlen = 200\n",
    "\n",
    "(X_train, y_train), (X_test, y_test) = imdb.load_data(num_words=num_words)\n",
    "X_train = pad_sequences(X_train, maxlen=maxlen)\n",
    "X_test = pad_sequences(X_test, maxlen=maxlen)"
   ]
  },
  {
   "cell_type": "code",
   "execution_count": 2,
   "metadata": {},
   "outputs": [
    {
     "name": "stdout",
     "output_type": "stream",
     "text": [
      "WARNING:tensorflow:From c:\\Users\\camyr\\AppData\\Local\\Programs\\Python\\Python311\\Lib\\site-packages\\keras\\src\\backend.py:873: The name tf.get_default_graph is deprecated. Please use tf.compat.v1.get_default_graph instead.\n",
      "\n",
      "WARNING:tensorflow:From c:\\Users\\camyr\\AppData\\Local\\Programs\\Python\\Python311\\Lib\\site-packages\\keras\\src\\optimizers\\__init__.py:309: The name tf.train.Optimizer is deprecated. Please use tf.compat.v1.train.Optimizer instead.\n",
      "\n",
      "Model: \"sequential\"\n",
      "_________________________________________________________________\n",
      " Layer (type)                Output Shape              Param #   \n",
      "=================================================================\n",
      " embedding (Embedding)       (None, None, 32)          320000    \n",
      "                                                                 \n",
      " lstm (LSTM)                 (None, None, 64)          24832     \n",
      "                                                                 \n",
      " lstm_1 (LSTM)               (None, 32)                12416     \n",
      "                                                                 \n",
      " dense (Dense)               (None, 1)                 33        \n",
      "                                                                 \n",
      "=================================================================\n",
      "Total params: 357281 (1.36 MB)\n",
      "Trainable params: 357281 (1.36 MB)\n",
      "Non-trainable params: 0 (0.00 Byte)\n",
      "_________________________________________________________________\n"
     ]
    }
   ],
   "source": [
    "model_deep = Sequential()\n",
    "model_deep.add(Embedding(num_words, 32))\n",
    "model_deep.add(LSTM(64, return_sequences=True))\n",
    "model_deep.add(LSTM(32))\n",
    "model_deep.add(Dense(1, activation='sigmoid'))\n",
    "\n",
    "model_deep.compile(optimizer='adam', loss='binary_crossentropy', metrics=['accuracy'])\n",
    "\n",
    "model_deep.summary()"
   ]
  },
  {
   "cell_type": "code",
   "execution_count": 3,
   "metadata": {},
   "outputs": [
    {
     "name": "stdout",
     "output_type": "stream",
     "text": [
      "Epoch 1/10\n",
      "WARNING:tensorflow:From c:\\Users\\camyr\\AppData\\Local\\Programs\\Python\\Python311\\Lib\\site-packages\\keras\\src\\utils\\tf_utils.py:492: The name tf.ragged.RaggedTensorValue is deprecated. Please use tf.compat.v1.ragged.RaggedTensorValue instead.\n",
      "\n",
      "WARNING:tensorflow:From c:\\Users\\camyr\\AppData\\Local\\Programs\\Python\\Python311\\Lib\\site-packages\\keras\\src\\engine\\base_layer_utils.py:384: The name tf.executing_eagerly_outside_functions is deprecated. Please use tf.compat.v1.executing_eagerly_outside_functions instead.\n",
      "\n",
      "84/84 [==============================] - 82s 899ms/step - loss: 0.5604 - accuracy: 0.7017 - val_loss: 0.4231 - val_accuracy: 0.8124\n",
      "Epoch 2/10\n",
      "84/84 [==============================] - 80s 960ms/step - loss: 0.3290 - accuracy: 0.8652 - val_loss: 0.3289 - val_accuracy: 0.8615\n",
      "Epoch 3/10\n",
      "84/84 [==============================] - 81s 957ms/step - loss: 0.2272 - accuracy: 0.9172 - val_loss: 0.3334 - val_accuracy: 0.8618\n",
      "Epoch 4/10\n",
      "84/84 [==============================] - 103s 1s/step - loss: 0.1877 - accuracy: 0.9354 - val_loss: 0.3693 - val_accuracy: 0.8576\n",
      "Epoch 5/10\n",
      "84/84 [==============================] - 100s 1s/step - loss: 0.1539 - accuracy: 0.9487 - val_loss: 0.4085 - val_accuracy: 0.8540\n",
      "Epoch 6/10\n",
      "84/84 [==============================] - 60s 717ms/step - loss: 0.1299 - accuracy: 0.9592 - val_loss: 0.3953 - val_accuracy: 0.8511\n",
      "Epoch 7/10\n",
      "84/84 [==============================] - 96s 1s/step - loss: 0.1017 - accuracy: 0.9708 - val_loss: 0.4567 - val_accuracy: 0.8500\n",
      "Epoch 8/10\n",
      "84/84 [==============================] - 98s 1s/step - loss: 0.0858 - accuracy: 0.9755 - val_loss: 0.5292 - val_accuracy: 0.8479\n",
      "Epoch 9/10\n",
      "84/84 [==============================] - 58s 690ms/step - loss: 0.0690 - accuracy: 0.9820 - val_loss: 0.5536 - val_accuracy: 0.8480\n",
      "Epoch 10/10\n",
      "84/84 [==============================] - 77s 912ms/step - loss: 0.0581 - accuracy: 0.9854 - val_loss: 0.5483 - val_accuracy: 0.8466\n",
      "Test Accuracy: 84.66%\n"
     ]
    }
   ],
   "source": [
    "model_deep.fit(X_train, y_train, validation_data=(X_test, y_test), epochs=10, batch_size=300)\n",
    "\n",
    "loss, accuracy = model_deep.evaluate(X_test, y_test, verbose=0)\n",
    "print('Test Accuracy: {:.2f}%'.format(accuracy * 100))"
   ]
  }
 ],
 "metadata": {
  "kernelspec": {
   "display_name": "Python 3",
   "language": "python",
   "name": "python3"
  },
  "language_info": {
   "codemirror_mode": {
    "name": "ipython",
    "version": 3
   },
   "file_extension": ".py",
   "mimetype": "text/x-python",
   "name": "python",
   "nbconvert_exporter": "python",
   "pygments_lexer": "ipython3",
   "version": "3.11.5"
  }
 },
 "nbformat": 4,
 "nbformat_minor": 2
}
