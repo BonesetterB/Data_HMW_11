{
 "cells": [
  {
   "cell_type": "code",
   "execution_count": 1,
   "metadata": {},
   "outputs": [
    {
     "name": "stdout",
     "output_type": "stream",
     "text": [
      "WARNING:tensorflow:From c:\\Users\\camyr\\AppData\\Local\\Programs\\Python\\Python311\\Lib\\site-packages\\keras\\src\\losses.py:2976: The name tf.losses.sparse_softmax_cross_entropy is deprecated. Please use tf.compat.v1.losses.sparse_softmax_cross_entropy instead.\n",
      "\n"
     ]
    }
   ],
   "source": [
    "\n",
    "import numpy as np\n",
    "import tensorflow\n",
    "from keras.datasets import imdb\n",
    "from keras.preprocessing.sequence import pad_sequences\n",
    "from keras.models import Sequential\n",
    "from keras.layers import Embedding,  LSTM,  Dense\n",
    "\n",
    "num_words = 10000\n",
    "maxlen = 200\n",
    "\n",
    "(X_train, y_train), (X_test, y_test) = imdb.load_data(num_words=num_words)\n",
    "X_train = pad_sequences(X_train, maxlen=maxlen)\n",
    "X_test = pad_sequences(X_test, maxlen=maxlen)"
   ]
  },
  {
   "cell_type": "code",
   "execution_count": 2,
   "metadata": {},
   "outputs": [
    {
     "name": "stdout",
     "output_type": "stream",
     "text": [
      "WARNING:tensorflow:From c:\\Users\\camyr\\AppData\\Local\\Programs\\Python\\Python311\\Lib\\site-packages\\keras\\src\\backend.py:873: The name tf.get_default_graph is deprecated. Please use tf.compat.v1.get_default_graph instead.\n",
      "\n",
      "WARNING:tensorflow:From c:\\Users\\camyr\\AppData\\Local\\Programs\\Python\\Python311\\Lib\\site-packages\\keras\\src\\optimizers\\__init__.py:309: The name tf.train.Optimizer is deprecated. Please use tf.compat.v1.train.Optimizer instead.\n",
      "\n",
      "Model: \"sequential\"\n",
      "_________________________________________________________________\n",
      " Layer (type)                Output Shape              Param #   \n",
      "=================================================================\n",
      " embedding (Embedding)       (None, None, 32)          320000    \n",
      "                                                                 \n",
      " lstm (LSTM)                 (None, 64)                24832     \n",
      "                                                                 \n",
      " dense (Dense)               (None, 1)                 65        \n",
      "                                                                 \n",
      "=================================================================\n",
      "Total params: 344897 (1.32 MB)\n",
      "Trainable params: 344897 (1.32 MB)\n",
      "Non-trainable params: 0 (0.00 Byte)\n",
      "_________________________________________________________________\n"
     ]
    }
   ],
   "source": [
    "model_lstm = Sequential()\n",
    "model_lstm.add(Embedding(num_words, 32))\n",
    "model_lstm.add(LSTM(64))\n",
    "model_lstm.add(Dense(1, activation='sigmoid'))\n",
    "\n",
    "model_lstm.compile(optimizer='adam', loss='binary_crossentropy', metrics=['accuracy'])\n",
    "\n",
    "model_lstm.summary()"
   ]
  },
  {
   "cell_type": "code",
   "execution_count": 3,
   "metadata": {},
   "outputs": [
    {
     "name": "stdout",
     "output_type": "stream",
     "text": [
      "Epoch 1/10\n",
      "WARNING:tensorflow:From c:\\Users\\camyr\\AppData\\Local\\Programs\\Python\\Python311\\Lib\\site-packages\\keras\\src\\utils\\tf_utils.py:492: The name tf.ragged.RaggedTensorValue is deprecated. Please use tf.compat.v1.ragged.RaggedTensorValue instead.\n",
      "\n",
      "WARNING:tensorflow:From c:\\Users\\camyr\\AppData\\Local\\Programs\\Python\\Python311\\Lib\\site-packages\\keras\\src\\engine\\base_layer_utils.py:384: The name tf.executing_eagerly_outside_functions is deprecated. Please use tf.compat.v1.executing_eagerly_outside_functions instead.\n",
      "\n",
      "84/84 [==============================] - 43s 473ms/step - loss: 0.5322 - accuracy: 0.7175 - val_loss: 0.3827 - val_accuracy: 0.8552\n",
      "Epoch 2/10\n",
      "84/84 [==============================] - 42s 506ms/step - loss: 0.2697 - accuracy: 0.8959 - val_loss: 0.3170 - val_accuracy: 0.8711\n",
      "Epoch 3/10\n",
      "84/84 [==============================] - 41s 493ms/step - loss: 0.1948 - accuracy: 0.9287 - val_loss: 0.3542 - val_accuracy: 0.8660\n",
      "Epoch 4/10\n",
      "84/84 [==============================] - 48s 570ms/step - loss: 0.1641 - accuracy: 0.9422 - val_loss: 0.3436 - val_accuracy: 0.8615\n",
      "Epoch 5/10\n",
      "84/84 [==============================] - 47s 562ms/step - loss: 0.1315 - accuracy: 0.9556 - val_loss: 0.3829 - val_accuracy: 0.8567\n",
      "Epoch 6/10\n",
      "84/84 [==============================] - 44s 531ms/step - loss: 0.1196 - accuracy: 0.9609 - val_loss: 0.4354 - val_accuracy: 0.8554\n",
      "Epoch 7/10\n",
      "84/84 [==============================] - 60s 721ms/step - loss: 0.0906 - accuracy: 0.9712 - val_loss: 0.4248 - val_accuracy: 0.8566\n",
      "Epoch 8/10\n",
      "84/84 [==============================] - 53s 631ms/step - loss: 0.0768 - accuracy: 0.9757 - val_loss: 0.5671 - val_accuracy: 0.8459\n",
      "Epoch 9/10\n",
      "84/84 [==============================] - 62s 737ms/step - loss: 0.0609 - accuracy: 0.9814 - val_loss: 0.5694 - val_accuracy: 0.8465\n",
      "Epoch 10/10\n",
      "84/84 [==============================] - 45s 535ms/step - loss: 0.0566 - accuracy: 0.9824 - val_loss: 0.5835 - val_accuracy: 0.8445\n",
      "Test Accuracy: 84.45%\n"
     ]
    }
   ],
   "source": [
    "\n",
    "model_lstm.fit(X_train, y_train, validation_data=(X_test, y_test), epochs=10, batch_size=300)\n",
    "\n",
    "loss, accuracy = model_lstm.evaluate(X_test, y_test, verbose=0)\n",
    "print('Test Accuracy: {:.2f}%'.format(accuracy * 100))"
   ]
  }
 ],
 "metadata": {
  "kernelspec": {
   "display_name": "Python 3",
   "language": "python",
   "name": "python3"
  },
  "language_info": {
   "codemirror_mode": {
    "name": "ipython",
    "version": 3
   },
   "file_extension": ".py",
   "mimetype": "text/x-python",
   "name": "python",
   "nbconvert_exporter": "python",
   "pygments_lexer": "ipython3",
   "version": "3.11.5"
  }
 },
 "nbformat": 4,
 "nbformat_minor": 2
}
