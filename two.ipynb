{
 "cells": [
  {
   "cell_type": "code",
   "execution_count": 1,
   "metadata": {},
   "outputs": [
    {
     "name": "stdout",
     "output_type": "stream",
     "text": [
      "WARNING:tensorflow:From c:\\Users\\camyr\\AppData\\Local\\Programs\\Python\\Python311\\Lib\\site-packages\\keras\\src\\losses.py:2976: The name tf.losses.sparse_softmax_cross_entropy is deprecated. Please use tf.compat.v1.losses.sparse_softmax_cross_entropy instead.\n",
      "\n"
     ]
    }
   ],
   "source": [
    "\n",
    "import numpy as np\n",
    "import tensorflow\n",
    "from keras.datasets import imdb\n",
    "from keras.preprocessing.sequence import pad_sequences\n",
    "from keras.models import Sequential\n",
    "from keras.layers import Embedding,  LSTM, Bidirectional, Dense\n",
    "\n",
    "num_words = 10000\n",
    "maxlen = 200\n",
    "\n",
    "(X_train, y_train), (X_test, y_test) = imdb.load_data(num_words=num_words)\n",
    "X_train = pad_sequences(X_train, maxlen=maxlen)\n",
    "X_test = pad_sequences(X_test, maxlen=maxlen)"
   ]
  },
  {
   "cell_type": "code",
   "execution_count": 2,
   "metadata": {},
   "outputs": [
    {
     "name": "stdout",
     "output_type": "stream",
     "text": [
      "WARNING:tensorflow:From c:\\Users\\camyr\\AppData\\Local\\Programs\\Python\\Python311\\Lib\\site-packages\\keras\\src\\backend.py:873: The name tf.get_default_graph is deprecated. Please use tf.compat.v1.get_default_graph instead.\n",
      "\n",
      "WARNING:tensorflow:From c:\\Users\\camyr\\AppData\\Local\\Programs\\Python\\Python311\\Lib\\site-packages\\keras\\src\\optimizers\\__init__.py:309: The name tf.train.Optimizer is deprecated. Please use tf.compat.v1.train.Optimizer instead.\n",
      "\n",
      "Model: \"sequential\"\n",
      "_________________________________________________________________\n",
      " Layer (type)                Output Shape              Param #   \n",
      "=================================================================\n",
      " embedding (Embedding)       (None, None, 32)          320000    \n",
      "                                                                 \n",
      " bidirectional (Bidirection  (None, 256)               164864    \n",
      " al)                                                             \n",
      "                                                                 \n",
      " dense (Dense)               (None, 1)                 257       \n",
      "                                                                 \n",
      "=================================================================\n",
      "Total params: 485121 (1.85 MB)\n",
      "Trainable params: 485121 (1.85 MB)\n",
      "Non-trainable params: 0 (0.00 Byte)\n",
      "_________________________________________________________________\n"
     ]
    }
   ],
   "source": [
    "model_bidirectional = Sequential()\n",
    "model_bidirectional.add(Embedding(num_words, 32))\n",
    "model_bidirectional.add(Bidirectional(LSTM(64)))\n",
    "model_bidirectional.add(Dense(1, activation='sigmoid'))\n",
    "\n",
    "model_bidirectional.compile(optimizer='adam', loss='binary_crossentropy', metrics=['accuracy'])\n",
    "\n",
    "model_bidirectional.summary()"
   ]
  },
  {
   "cell_type": "code",
   "execution_count": 3,
   "metadata": {},
   "outputs": [
    {
     "name": "stdout",
     "output_type": "stream",
     "text": [
      "Epoch 1/10\n",
      "WARNING:tensorflow:From c:\\Users\\camyr\\AppData\\Local\\Programs\\Python\\Python311\\Lib\\site-packages\\keras\\src\\utils\\tf_utils.py:492: The name tf.ragged.RaggedTensorValue is deprecated. Please use tf.compat.v1.ragged.RaggedTensorValue instead.\n",
      "\n",
      "WARNING:tensorflow:From c:\\Users\\camyr\\AppData\\Local\\Programs\\Python\\Python311\\Lib\\site-packages\\keras\\src\\engine\\base_layer_utils.py:384: The name tf.executing_eagerly_outside_functions is deprecated. Please use tf.compat.v1.executing_eagerly_outside_functions instead.\n",
      "\n",
      "84/84 [==============================] - 136s 2s/step - loss: 0.6585 - accuracy: 0.6240 - val_loss: 0.6331 - val_accuracy: 0.5658\n",
      "Epoch 2/10\n",
      "84/84 [==============================] - 124s 1s/step - loss: 0.4560 - accuracy: 0.7990 - val_loss: 0.3179 - val_accuracy: 0.8650\n",
      "Epoch 3/10\n",
      "84/84 [==============================] - 125s 1s/step - loss: 0.2433 - accuracy: 0.9052 - val_loss: 0.3664 - val_accuracy: 0.8632\n",
      "Epoch 4/10\n",
      "84/84 [==============================] - 126s 2s/step - loss: 0.1908 - accuracy: 0.9302 - val_loss: 0.3447 - val_accuracy: 0.8633\n",
      "Epoch 5/10\n",
      "84/84 [==============================] - 127s 2s/step - loss: 0.1496 - accuracy: 0.9482 - val_loss: 0.3454 - val_accuracy: 0.8652\n",
      "Epoch 6/10\n",
      "84/84 [==============================] - 127s 2s/step - loss: 0.1189 - accuracy: 0.9612 - val_loss: 0.3549 - val_accuracy: 0.8572\n",
      "Epoch 7/10\n",
      "84/84 [==============================] - 127s 2s/step - loss: 0.1018 - accuracy: 0.9677 - val_loss: 0.4529 - val_accuracy: 0.8579\n",
      "Epoch 8/10\n",
      "84/84 [==============================] - 140s 2s/step - loss: 0.0788 - accuracy: 0.9757 - val_loss: 0.5232 - val_accuracy: 0.8496\n",
      "Epoch 9/10\n",
      "84/84 [==============================] - 182s 2s/step - loss: 0.0719 - accuracy: 0.9790 - val_loss: 0.5299 - val_accuracy: 0.8496\n",
      "Epoch 10/10\n",
      "84/84 [==============================] - 221s 3s/step - loss: 0.1031 - accuracy: 0.9643 - val_loss: 0.5342 - val_accuracy: 0.8459\n",
      "Test Accuracy: 84.59%\n"
     ]
    }
   ],
   "source": [
    "model_bidirectional.fit(X_train, y_train, validation_data=(X_test, y_test), epochs=10, batch_size=300)\n",
    "\n",
    "loss, accuracy = model_bidirectional.evaluate(X_test, y_test, verbose=0)\n",
    "print('Test Accuracy: {:.2f}%'.format(accuracy * 100))"
   ]
  }
 ],
 "metadata": {
  "kernelspec": {
   "display_name": "Python 3",
   "language": "python",
   "name": "python3"
  },
  "language_info": {
   "codemirror_mode": {
    "name": "ipython",
    "version": 3
   },
   "file_extension": ".py",
   "mimetype": "text/x-python",
   "name": "python",
   "nbconvert_exporter": "python",
   "pygments_lexer": "ipython3",
   "version": "3.11.5"
  }
 },
 "nbformat": 4,
 "nbformat_minor": 2
}
