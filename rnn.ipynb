{
 "cells": [
  {
   "cell_type": "code",
   "execution_count": 10,
   "metadata": {},
   "outputs": [],
   "source": [
    "\n",
    "import numpy as np\n",
    "import tensorflow\n",
    "from keras.datasets import imdb\n",
    "from keras.preprocessing.sequence import pad_sequences\n",
    "from keras.models import Sequential\n",
    "from keras.layers import Embedding, SimpleRNN,  Dense,Dropout\n",
    "\n",
    "num_words = 10000\n",
    "maxlen = 200\n",
    "\n",
    "(X_train, y_train), (X_test, y_test) = imdb.load_data(num_words=num_words)\n",
    "X_train = pad_sequences(X_train, maxlen=maxlen)\n",
    "X_test = pad_sequences(X_test, maxlen=maxlen)"
   ]
  },
  {
   "cell_type": "code",
   "execution_count": 14,
   "metadata": {},
   "outputs": [
    {
     "name": "stdout",
     "output_type": "stream",
     "text": [
      "Model: \"sequential_5\"\n",
      "_________________________________________________________________\n",
      " Layer (type)                Output Shape              Param #   \n",
      "=================================================================\n",
      " embedding_5 (Embedding)     (None, None, 32)          320000    \n",
      "                                                                 \n",
      " simple_rnn_5 (SimpleRNN)    (None, 64)                6208      \n",
      "                                                                 \n",
      " dense_4 (Dense)             (None, 1)                 65        \n",
      "                                                                 \n",
      "=================================================================\n",
      "Total params: 326273 (1.24 MB)\n",
      "Trainable params: 326273 (1.24 MB)\n",
      "Non-trainable params: 0 (0.00 Byte)\n",
      "_________________________________________________________________\n"
     ]
    }
   ],
   "source": [
    "model_rnn = Sequential()\n",
    "model_rnn.add(Embedding(num_words, 32))\n",
    "model_rnn.add(SimpleRNN(64))\n",
    "model_rnn.add(Dense(1, activation='sigmoid'))\n",
    "\n",
    "model_rnn.compile(optimizer='adam', loss='binary_crossentropy', metrics=['accuracy'])\n",
    "\n",
    "model_rnn.summary()"
   ]
  },
  {
   "cell_type": "code",
   "execution_count": 15,
   "metadata": {},
   "outputs": [
    {
     "name": "stdout",
     "output_type": "stream",
     "text": [
      "Epoch 1/10\n",
      "84/84 [==============================] - 9s 98ms/step - loss: 0.6659 - accuracy: 0.5968 - val_loss: 0.6108 - val_accuracy: 0.7158\n",
      "Epoch 2/10\n",
      "84/84 [==============================] - 8s 93ms/step - loss: 0.4351 - accuracy: 0.8086 - val_loss: 0.5051 - val_accuracy: 0.7709\n",
      "Epoch 3/10\n",
      "84/84 [==============================] - 9s 108ms/step - loss: 0.3098 - accuracy: 0.8747 - val_loss: 0.3579 - val_accuracy: 0.8494\n",
      "Epoch 4/10\n",
      "84/84 [==============================] - 12s 139ms/step - loss: 0.2362 - accuracy: 0.9106 - val_loss: 0.3479 - val_accuracy: 0.8561\n",
      "Epoch 5/10\n",
      "84/84 [==============================] - 11s 136ms/step - loss: 0.2068 - accuracy: 0.9236 - val_loss: 0.3765 - val_accuracy: 0.8510\n",
      "Epoch 6/10\n",
      "84/84 [==============================] - 10s 125ms/step - loss: 0.1748 - accuracy: 0.9364 - val_loss: 0.3811 - val_accuracy: 0.8528\n",
      "Epoch 7/10\n",
      "84/84 [==============================] - 11s 127ms/step - loss: 0.1426 - accuracy: 0.9512 - val_loss: 0.4204 - val_accuracy: 0.8486\n",
      "Epoch 8/10\n",
      "84/84 [==============================] - 10s 118ms/step - loss: 0.1428 - accuracy: 0.9502 - val_loss: 0.4042 - val_accuracy: 0.8447\n",
      "Epoch 9/10\n",
      "84/84 [==============================] - 10s 118ms/step - loss: 0.1090 - accuracy: 0.9642 - val_loss: 0.4743 - val_accuracy: 0.8447\n",
      "Epoch 10/10\n",
      "84/84 [==============================] - 10s 122ms/step - loss: 0.1827 - accuracy: 0.9297 - val_loss: 0.4689 - val_accuracy: 0.8141\n",
      "Test Accuracy: 81.41%\n"
     ]
    }
   ],
   "source": [
    "model_rnn.fit(X_train, y_train, validation_data=(X_test, y_test), epochs=10, batch_size=300)\n",
    "\n",
    "loss, accuracy = model_rnn.evaluate(X_test, y_test, verbose=0)\n",
    "print('Test Accuracy: {:.2f}%'.format(accuracy * 100))"
   ]
  }
 ],
 "metadata": {
  "kernelspec": {
   "display_name": "Python 3",
   "language": "python",
   "name": "python3"
  },
  "language_info": {
   "codemirror_mode": {
    "name": "ipython",
    "version": 3
   },
   "file_extension": ".py",
   "mimetype": "text/x-python",
   "name": "python",
   "nbconvert_exporter": "python",
   "pygments_lexer": "ipython3",
   "version": "3.11.5"
  }
 },
 "nbformat": 4,
 "nbformat_minor": 2
}
